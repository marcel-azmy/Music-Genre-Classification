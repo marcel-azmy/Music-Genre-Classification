{
 "cells": [
  {
   "cell_type": "markdown",
   "id": "8d856c84",
   "metadata": {},
   "source": [
    "* `Import Libraries`"
   ]
  },
  {
   "cell_type": "code",
   "execution_count": null,
   "id": "2fcbabf4",
   "metadata": {},
   "outputs": [],
   "source": [
    "import pandas as pd\n",
    "import numpy as np\n",
    "import matplotlib.pyplot as plt\n",
    "import seaborn as sns\n",
    "sns.set()\n",
    "\n",
    "from sklearn.model_selection import train_test_split\n",
    "from sklearn.linear_model import LogisticRegression\n",
    "from sklearn.metrics import classification_report, accuracy_score \n",
    "from sklearn.preprocessing import StandardScaler, LabelEncoder\n",
    "from sklearn.decomposition import PCA"
   ]
  },
  {
   "cell_type": "markdown",
   "id": "d1c59d3b",
   "metadata": {},
   "source": [
    "* `Read the Dataset`"
   ]
  },
  {
   "cell_type": "code",
   "execution_count": 2,
   "id": "ca58c442",
   "metadata": {},
   "outputs": [
    {
     "data": {
      "text/html": [
       "<div>\n",
       "<style scoped>\n",
       "    .dataframe tbody tr th:only-of-type {\n",
       "        vertical-align: middle;\n",
       "    }\n",
       "\n",
       "    .dataframe tbody tr th {\n",
       "        vertical-align: top;\n",
       "    }\n",
       "\n",
       "    .dataframe thead th {\n",
       "        text-align: right;\n",
       "    }\n",
       "</style>\n",
       "<table border=\"1\" class=\"dataframe\">\n",
       "  <thead>\n",
       "    <tr style=\"text-align: right;\">\n",
       "      <th></th>\n",
       "      <th>Tempo</th>\n",
       "      <th>Dynamics Range</th>\n",
       "      <th>Vocal Presence</th>\n",
       "      <th>Percussion Strength</th>\n",
       "      <th>String Instrument Detection</th>\n",
       "      <th>Electronic Element Presence</th>\n",
       "      <th>Rhythm Complexity</th>\n",
       "      <th>Drums Influence</th>\n",
       "      <th>Distorted Guitar</th>\n",
       "      <th>Metal Frequencies</th>\n",
       "      <th>Ambient Sound Influence</th>\n",
       "      <th>Instrumental Overlaps</th>\n",
       "      <th>Genre</th>\n",
       "    </tr>\n",
       "  </thead>\n",
       "  <tbody>\n",
       "    <tr>\n",
       "      <th>0</th>\n",
       "      <td>114.618354</td>\n",
       "      <td>57.976367</td>\n",
       "      <td>53.251766</td>\n",
       "      <td>99.061840</td>\n",
       "      <td>14.686768</td>\n",
       "      <td>17.628630</td>\n",
       "      <td>46.545522</td>\n",
       "      <td>75.839434</td>\n",
       "      <td>79.378892</td>\n",
       "      <td>71.753088</td>\n",
       "      <td>96.439665</td>\n",
       "      <td>53.771763</td>\n",
       "      <td>Country</td>\n",
       "    </tr>\n",
       "    <tr>\n",
       "      <th>1</th>\n",
       "      <td>116.672803</td>\n",
       "      <td>69.387087</td>\n",
       "      <td>95.787280</td>\n",
       "      <td>90.831033</td>\n",
       "      <td>47.280419</td>\n",
       "      <td>-15.618194</td>\n",
       "      <td>85.421085</td>\n",
       "      <td>100.455908</td>\n",
       "      <td>0.713015</td>\n",
       "      <td>0.000000</td>\n",
       "      <td>17.327295</td>\n",
       "      <td>15.017146</td>\n",
       "      <td>Classical</td>\n",
       "    </tr>\n",
       "    <tr>\n",
       "      <th>2</th>\n",
       "      <td>128.328121</td>\n",
       "      <td>52.930677</td>\n",
       "      <td>65.701187</td>\n",
       "      <td>104.439247</td>\n",
       "      <td>5.984994</td>\n",
       "      <td>50.467388</td>\n",
       "      <td>18.006722</td>\n",
       "      <td>77.642913</td>\n",
       "      <td>80.652946</td>\n",
       "      <td>87.692110</td>\n",
       "      <td>95.125207</td>\n",
       "      <td>25.308020</td>\n",
       "      <td>Rock</td>\n",
       "    </tr>\n",
       "    <tr>\n",
       "      <th>3</th>\n",
       "      <td>128.511337</td>\n",
       "      <td>25.494755</td>\n",
       "      <td>14.095374</td>\n",
       "      <td>40.106130</td>\n",
       "      <td>47.715584</td>\n",
       "      <td>87.335201</td>\n",
       "      <td>68.603329</td>\n",
       "      <td>63.536557</td>\n",
       "      <td>74.888346</td>\n",
       "      <td>76.239108</td>\n",
       "      <td>97.016998</td>\n",
       "      <td>96.893109</td>\n",
       "      <td>Hip-hop</td>\n",
       "    </tr>\n",
       "    <tr>\n",
       "      <th>4</th>\n",
       "      <td>135.474190</td>\n",
       "      <td>45.174876</td>\n",
       "      <td>101.469872</td>\n",
       "      <td>70.002203</td>\n",
       "      <td>108.177637</td>\n",
       "      <td>25.865590</td>\n",
       "      <td>31.295163</td>\n",
       "      <td>81.121030</td>\n",
       "      <td>36.178193</td>\n",
       "      <td>23.381542</td>\n",
       "      <td>53.753793</td>\n",
       "      <td>30.142986</td>\n",
       "      <td>Country</td>\n",
       "    </tr>\n",
       "    <tr>\n",
       "      <th>...</th>\n",
       "      <td>...</td>\n",
       "      <td>...</td>\n",
       "      <td>...</td>\n",
       "      <td>...</td>\n",
       "      <td>...</td>\n",
       "      <td>...</td>\n",
       "      <td>...</td>\n",
       "      <td>...</td>\n",
       "      <td>...</td>\n",
       "      <td>...</td>\n",
       "      <td>...</td>\n",
       "      <td>...</td>\n",
       "      <td>...</td>\n",
       "    </tr>\n",
       "    <tr>\n",
       "      <th>995</th>\n",
       "      <td>66.578839</td>\n",
       "      <td>54.533872</td>\n",
       "      <td>99.782246</td>\n",
       "      <td>95.633310</td>\n",
       "      <td>91.414514</td>\n",
       "      <td>19.396142</td>\n",
       "      <td>36.280860</td>\n",
       "      <td>78.298955</td>\n",
       "      <td>4.890606</td>\n",
       "      <td>4.638077</td>\n",
       "      <td>75.479656</td>\n",
       "      <td>95.990077</td>\n",
       "      <td>NaN</td>\n",
       "    </tr>\n",
       "    <tr>\n",
       "      <th>996</th>\n",
       "      <td>126.570862</td>\n",
       "      <td>57.812829</td>\n",
       "      <td>90.809940</td>\n",
       "      <td>64.880583</td>\n",
       "      <td>40.437517</td>\n",
       "      <td>38.051344</td>\n",
       "      <td>66.204244</td>\n",
       "      <td>95.770959</td>\n",
       "      <td>1.745673</td>\n",
       "      <td>6.729019</td>\n",
       "      <td>82.042218</td>\n",
       "      <td>43.590027</td>\n",
       "      <td>Classical</td>\n",
       "    </tr>\n",
       "    <tr>\n",
       "      <th>997</th>\n",
       "      <td>121.731543</td>\n",
       "      <td>51.385204</td>\n",
       "      <td>33.849400</td>\n",
       "      <td>17.044544</td>\n",
       "      <td>84.483481</td>\n",
       "      <td>13.312790</td>\n",
       "      <td>8.953013</td>\n",
       "      <td>64.068960</td>\n",
       "      <td>90.738580</td>\n",
       "      <td>96.043437</td>\n",
       "      <td>5.499350</td>\n",
       "      <td>74.604889</td>\n",
       "      <td>Rock</td>\n",
       "    </tr>\n",
       "    <tr>\n",
       "      <th>998</th>\n",
       "      <td>97.070804</td>\n",
       "      <td>19.210429</td>\n",
       "      <td>62.662860</td>\n",
       "      <td>22.720453</td>\n",
       "      <td>66.917937</td>\n",
       "      <td>80.590809</td>\n",
       "      <td>51.403310</td>\n",
       "      <td>50.828636</td>\n",
       "      <td>68.518232</td>\n",
       "      <td>55.119045</td>\n",
       "      <td>21.781372</td>\n",
       "      <td>24.716517</td>\n",
       "      <td>Rock</td>\n",
       "    </tr>\n",
       "    <tr>\n",
       "      <th>999</th>\n",
       "      <td>71.050781</td>\n",
       "      <td>32.967250</td>\n",
       "      <td>62.875776</td>\n",
       "      <td>78.868747</td>\n",
       "      <td>88.094454</td>\n",
       "      <td>59.148014</td>\n",
       "      <td>83.420324</td>\n",
       "      <td>59.582109</td>\n",
       "      <td>37.329193</td>\n",
       "      <td>44.576693</td>\n",
       "      <td>87.458414</td>\n",
       "      <td>78.270683</td>\n",
       "      <td>Jazz</td>\n",
       "    </tr>\n",
       "  </tbody>\n",
       "</table>\n",
       "<p>1000 rows × 13 columns</p>\n",
       "</div>"
      ],
      "text/plain": [
       "          Tempo  Dynamics Range  Vocal Presence  Percussion Strength  \\\n",
       "0    114.618354       57.976367       53.251766            99.061840   \n",
       "1    116.672803       69.387087       95.787280            90.831033   \n",
       "2    128.328121       52.930677       65.701187           104.439247   \n",
       "3    128.511337       25.494755       14.095374            40.106130   \n",
       "4    135.474190       45.174876      101.469872            70.002203   \n",
       "..          ...             ...             ...                  ...   \n",
       "995   66.578839       54.533872       99.782246            95.633310   \n",
       "996  126.570862       57.812829       90.809940            64.880583   \n",
       "997  121.731543       51.385204       33.849400            17.044544   \n",
       "998   97.070804       19.210429       62.662860            22.720453   \n",
       "999   71.050781       32.967250       62.875776            78.868747   \n",
       "\n",
       "     String Instrument Detection  Electronic Element Presence  \\\n",
       "0                      14.686768                    17.628630   \n",
       "1                      47.280419                   -15.618194   \n",
       "2                       5.984994                    50.467388   \n",
       "3                      47.715584                    87.335201   \n",
       "4                     108.177637                    25.865590   \n",
       "..                           ...                          ...   \n",
       "995                    91.414514                    19.396142   \n",
       "996                    40.437517                    38.051344   \n",
       "997                    84.483481                    13.312790   \n",
       "998                    66.917937                    80.590809   \n",
       "999                    88.094454                    59.148014   \n",
       "\n",
       "     Rhythm Complexity  Drums Influence  Distorted Guitar  Metal Frequencies  \\\n",
       "0            46.545522        75.839434         79.378892          71.753088   \n",
       "1            85.421085       100.455908          0.713015           0.000000   \n",
       "2            18.006722        77.642913         80.652946          87.692110   \n",
       "3            68.603329        63.536557         74.888346          76.239108   \n",
       "4            31.295163        81.121030         36.178193          23.381542   \n",
       "..                 ...              ...               ...                ...   \n",
       "995          36.280860        78.298955          4.890606           4.638077   \n",
       "996          66.204244        95.770959          1.745673           6.729019   \n",
       "997           8.953013        64.068960         90.738580          96.043437   \n",
       "998          51.403310        50.828636         68.518232          55.119045   \n",
       "999          83.420324        59.582109         37.329193          44.576693   \n",
       "\n",
       "     Ambient Sound Influence  Instrumental Overlaps      Genre  \n",
       "0                  96.439665              53.771763    Country  \n",
       "1                  17.327295              15.017146  Classical  \n",
       "2                  95.125207              25.308020       Rock  \n",
       "3                  97.016998              96.893109    Hip-hop  \n",
       "4                  53.753793              30.142986    Country  \n",
       "..                       ...                    ...        ...  \n",
       "995                75.479656              95.990077        NaN  \n",
       "996                82.042218              43.590027  Classical  \n",
       "997                 5.499350              74.604889       Rock  \n",
       "998                21.781372              24.716517       Rock  \n",
       "999                87.458414              78.270683       Jazz  \n",
       "\n",
       "[1000 rows x 13 columns]"
      ]
     },
     "execution_count": 2,
     "metadata": {},
     "output_type": "execute_result"
    }
   ],
   "source": [
    "df = pd.read_csv('music_dataset_mod.csv')\n",
    "df"
   ]
  },
  {
   "cell_type": "code",
   "execution_count": 7,
   "id": "3916afdb",
   "metadata": {},
   "outputs": [
    {
     "data": {
      "text/plain": [
       "Tempo                          float64\n",
       "Dynamics Range                 float64\n",
       "Vocal Presence                 float64\n",
       "Percussion Strength            float64\n",
       "String Instrument Detection    float64\n",
       "Electronic Element Presence    float64\n",
       "Rhythm Complexity              float64\n",
       "Drums Influence                float64\n",
       "Distorted Guitar               float64\n",
       "Metal Frequencies              float64\n",
       "Ambient Sound Influence        float64\n",
       "Instrumental Overlaps          float64\n",
       "Genre                           object\n",
       "dtype: object"
      ]
     },
     "execution_count": 7,
     "metadata": {},
     "output_type": "execute_result"
    }
   ],
   "source": [
    "df.dtypes"
   ]
  },
  {
   "cell_type": "code",
   "execution_count": 8,
   "id": "e5e9eac0",
   "metadata": {},
   "outputs": [
    {
     "name": "stdout",
     "output_type": "stream",
     "text": [
      "<class 'pandas.core.frame.DataFrame'>\n",
      "RangeIndex: 1000 entries, 0 to 999\n",
      "Data columns (total 13 columns):\n",
      " #   Column                       Non-Null Count  Dtype  \n",
      "---  ------                       --------------  -----  \n",
      " 0   Tempo                        1000 non-null   float64\n",
      " 1   Dynamics Range               1000 non-null   float64\n",
      " 2   Vocal Presence               1000 non-null   float64\n",
      " 3   Percussion Strength          1000 non-null   float64\n",
      " 4   String Instrument Detection  1000 non-null   float64\n",
      " 5   Electronic Element Presence  1000 non-null   float64\n",
      " 6   Rhythm Complexity            1000 non-null   float64\n",
      " 7   Drums Influence              1000 non-null   float64\n",
      " 8   Distorted Guitar             1000 non-null   float64\n",
      " 9   Metal Frequencies            1000 non-null   float64\n",
      " 10  Ambient Sound Influence      1000 non-null   float64\n",
      " 11  Instrumental Overlaps        1000 non-null   float64\n",
      " 12  Genre                        890 non-null    object \n",
      "dtypes: float64(12), object(1)\n",
      "memory usage: 101.7+ KB\n"
     ]
    }
   ],
   "source": [
    "df.info()"
   ]
  },
  {
   "cell_type": "code",
   "execution_count": 9,
   "id": "f7a2db6e",
   "metadata": {},
   "outputs": [
    {
     "data": {
      "text/html": [
       "<div>\n",
       "<style scoped>\n",
       "    .dataframe tbody tr th:only-of-type {\n",
       "        vertical-align: middle;\n",
       "    }\n",
       "\n",
       "    .dataframe tbody tr th {\n",
       "        vertical-align: top;\n",
       "    }\n",
       "\n",
       "    .dataframe thead th {\n",
       "        text-align: right;\n",
       "    }\n",
       "</style>\n",
       "<table border=\"1\" class=\"dataframe\">\n",
       "  <thead>\n",
       "    <tr style=\"text-align: right;\">\n",
       "      <th></th>\n",
       "      <th>Tempo</th>\n",
       "      <th>Dynamics Range</th>\n",
       "      <th>Vocal Presence</th>\n",
       "      <th>Percussion Strength</th>\n",
       "      <th>String Instrument Detection</th>\n",
       "      <th>Electronic Element Presence</th>\n",
       "      <th>Rhythm Complexity</th>\n",
       "      <th>Drums Influence</th>\n",
       "      <th>Distorted Guitar</th>\n",
       "      <th>Metal Frequencies</th>\n",
       "      <th>Ambient Sound Influence</th>\n",
       "      <th>Instrumental Overlaps</th>\n",
       "    </tr>\n",
       "  </thead>\n",
       "  <tbody>\n",
       "    <tr>\n",
       "      <th>count</th>\n",
       "      <td>1000.000000</td>\n",
       "      <td>1000.000000</td>\n",
       "      <td>1000.000000</td>\n",
       "      <td>1000.000000</td>\n",
       "      <td>1000.000000</td>\n",
       "      <td>1000.000000</td>\n",
       "      <td>1000.000000</td>\n",
       "      <td>1000.000000</td>\n",
       "      <td>1000.000000</td>\n",
       "      <td>1000.000000</td>\n",
       "      <td>1000.000000</td>\n",
       "      <td>1000.000000</td>\n",
       "    </tr>\n",
       "    <tr>\n",
       "      <th>mean</th>\n",
       "      <td>121.177891</td>\n",
       "      <td>46.684324</td>\n",
       "      <td>51.741685</td>\n",
       "      <td>54.854619</td>\n",
       "      <td>58.442054</td>\n",
       "      <td>48.813244</td>\n",
       "      <td>54.421479</td>\n",
       "      <td>76.646294</td>\n",
       "      <td>47.462577</td>\n",
       "      <td>47.319735</td>\n",
       "      <td>50.858454</td>\n",
       "      <td>49.328441</td>\n",
       "    </tr>\n",
       "    <tr>\n",
       "      <th>std</th>\n",
       "      <td>19.600614</td>\n",
       "      <td>17.809545</td>\n",
       "      <td>29.008872</td>\n",
       "      <td>29.489650</td>\n",
       "      <td>29.650752</td>\n",
       "      <td>33.239190</td>\n",
       "      <td>29.606431</td>\n",
       "      <td>18.867990</td>\n",
       "      <td>32.492813</td>\n",
       "      <td>32.274932</td>\n",
       "      <td>29.419584</td>\n",
       "      <td>29.140840</td>\n",
       "    </tr>\n",
       "    <tr>\n",
       "      <th>min</th>\n",
       "      <td>50.494818</td>\n",
       "      <td>-4.165724</td>\n",
       "      <td>0.408370</td>\n",
       "      <td>0.598517</td>\n",
       "      <td>0.217449</td>\n",
       "      <td>-29.990605</td>\n",
       "      <td>0.146433</td>\n",
       "      <td>18.995222</td>\n",
       "      <td>0.047202</td>\n",
       "      <td>0.000000</td>\n",
       "      <td>0.008879</td>\n",
       "      <td>0.254396</td>\n",
       "    </tr>\n",
       "    <tr>\n",
       "      <th>25%</th>\n",
       "      <td>107.885045</td>\n",
       "      <td>34.252531</td>\n",
       "      <td>26.635663</td>\n",
       "      <td>29.782438</td>\n",
       "      <td>32.240968</td>\n",
       "      <td>22.331010</td>\n",
       "      <td>29.603967</td>\n",
       "      <td>62.916792</td>\n",
       "      <td>11.678634</td>\n",
       "      <td>14.422842</td>\n",
       "      <td>24.832718</td>\n",
       "      <td>23.605648</td>\n",
       "    </tr>\n",
       "    <tr>\n",
       "      <th>50%</th>\n",
       "      <td>121.356455</td>\n",
       "      <td>46.390854</td>\n",
       "      <td>52.245242</td>\n",
       "      <td>54.926936</td>\n",
       "      <td>59.366659</td>\n",
       "      <td>49.871999</td>\n",
       "      <td>54.618441</td>\n",
       "      <td>75.739758</td>\n",
       "      <td>52.994852</td>\n",
       "      <td>50.722858</td>\n",
       "      <td>52.400507</td>\n",
       "      <td>50.106840</td>\n",
       "    </tr>\n",
       "    <tr>\n",
       "      <th>75%</th>\n",
       "      <td>135.054584</td>\n",
       "      <td>58.481545</td>\n",
       "      <td>76.919814</td>\n",
       "      <td>79.438614</td>\n",
       "      <td>82.872727</td>\n",
       "      <td>75.133776</td>\n",
       "      <td>78.502328</td>\n",
       "      <td>89.973436</td>\n",
       "      <td>75.149865</td>\n",
       "      <td>75.673932</td>\n",
       "      <td>77.304355</td>\n",
       "      <td>75.550700</td>\n",
       "    </tr>\n",
       "    <tr>\n",
       "      <th>max</th>\n",
       "      <td>175.982637</td>\n",
       "      <td>104.932942</td>\n",
       "      <td>109.643123</td>\n",
       "      <td>114.949678</td>\n",
       "      <td>119.991892</td>\n",
       "      <td>119.728293</td>\n",
       "      <td>119.699889</td>\n",
       "      <td>140.031079</td>\n",
       "      <td>99.586429</td>\n",
       "      <td>100.000000</td>\n",
       "      <td>99.820903</td>\n",
       "      <td>99.958673</td>\n",
       "    </tr>\n",
       "  </tbody>\n",
       "</table>\n",
       "</div>"
      ],
      "text/plain": [
       "             Tempo  Dynamics Range  Vocal Presence  Percussion Strength  \\\n",
       "count  1000.000000     1000.000000     1000.000000          1000.000000   \n",
       "mean    121.177891       46.684324       51.741685            54.854619   \n",
       "std      19.600614       17.809545       29.008872            29.489650   \n",
       "min      50.494818       -4.165724        0.408370             0.598517   \n",
       "25%     107.885045       34.252531       26.635663            29.782438   \n",
       "50%     121.356455       46.390854       52.245242            54.926936   \n",
       "75%     135.054584       58.481545       76.919814            79.438614   \n",
       "max     175.982637      104.932942      109.643123           114.949678   \n",
       "\n",
       "       String Instrument Detection  Electronic Element Presence  \\\n",
       "count                  1000.000000                  1000.000000   \n",
       "mean                     58.442054                    48.813244   \n",
       "std                      29.650752                    33.239190   \n",
       "min                       0.217449                   -29.990605   \n",
       "25%                      32.240968                    22.331010   \n",
       "50%                      59.366659                    49.871999   \n",
       "75%                      82.872727                    75.133776   \n",
       "max                     119.991892                   119.728293   \n",
       "\n",
       "       Rhythm Complexity  Drums Influence  Distorted Guitar  \\\n",
       "count        1000.000000      1000.000000       1000.000000   \n",
       "mean           54.421479        76.646294         47.462577   \n",
       "std            29.606431        18.867990         32.492813   \n",
       "min             0.146433        18.995222          0.047202   \n",
       "25%            29.603967        62.916792         11.678634   \n",
       "50%            54.618441        75.739758         52.994852   \n",
       "75%            78.502328        89.973436         75.149865   \n",
       "max           119.699889       140.031079         99.586429   \n",
       "\n",
       "       Metal Frequencies  Ambient Sound Influence  Instrumental Overlaps  \n",
       "count        1000.000000              1000.000000            1000.000000  \n",
       "mean           47.319735                50.858454              49.328441  \n",
       "std            32.274932                29.419584              29.140840  \n",
       "min             0.000000                 0.008879               0.254396  \n",
       "25%            14.422842                24.832718              23.605648  \n",
       "50%            50.722858                52.400507              50.106840  \n",
       "75%            75.673932                77.304355              75.550700  \n",
       "max           100.000000                99.820903              99.958673  "
      ]
     },
     "execution_count": 9,
     "metadata": {},
     "output_type": "execute_result"
    }
   ],
   "source": [
    "df.describe()"
   ]
  },
  {
   "cell_type": "markdown",
   "id": "3a3610a7",
   "metadata": {},
   "source": [
    "* `EDA`"
   ]
  },
  {
   "cell_type": "code",
   "execution_count": 10,
   "id": "c218e433",
   "metadata": {},
   "outputs": [
    {
     "data": {
      "text/plain": [
       "Tempo                            0\n",
       "Dynamics Range                   0\n",
       "Vocal Presence                   0\n",
       "Percussion Strength              0\n",
       "String Instrument Detection      0\n",
       "Electronic Element Presence      0\n",
       "Rhythm Complexity                0\n",
       "Drums Influence                  0\n",
       "Distorted Guitar                 0\n",
       "Metal Frequencies                0\n",
       "Ambient Sound Influence          0\n",
       "Instrumental Overlaps            0\n",
       "Genre                          110\n",
       "dtype: int64"
      ]
     },
     "execution_count": 10,
     "metadata": {},
     "output_type": "execute_result"
    }
   ],
   "source": [
    "df.isna().sum()"
   ]
  },
  {
   "cell_type": "code",
   "execution_count": 11,
   "id": "df99935e",
   "metadata": {},
   "outputs": [
    {
     "data": {
      "text/plain": [
       "Genre\n",
       "Rock         190\n",
       "Jazz         190\n",
       "Country      180\n",
       "Hip-hop      168\n",
       "Classical    162\n",
       "Name: count, dtype: int64"
      ]
     },
     "execution_count": 11,
     "metadata": {},
     "output_type": "execute_result"
    }
   ],
   "source": [
    "df['Genre'].value_counts()"
   ]
  },
  {
   "cell_type": "code",
   "execution_count": 12,
   "id": "5e782a33",
   "metadata": {},
   "outputs": [
    {
     "data": {
      "text/plain": [
       "array(['Country', 'Classical', 'Rock', 'Hip-hop', nan, 'Jazz'],\n",
       "      dtype=object)"
      ]
     },
     "execution_count": 12,
     "metadata": {},
     "output_type": "execute_result"
    }
   ],
   "source": [
    "df['Genre'].unique()"
   ]
  },
  {
   "cell_type": "markdown",
   "id": "f6cd5e47",
   "metadata": {},
   "source": [
    "* `Data Visualization & Handling Outliers`"
   ]
  },
  {
   "cell_type": "code",
   "execution_count": 13,
   "id": "478800c1",
   "metadata": {},
   "outputs": [
    {
     "data": {
      "image/png": "[encoded data removed]",
      "text/plain": [
       "<Figure size 2000x1000 with 12 Axes>"
      ]
     },
     "metadata": {},
     "output_type": "display_data"
    }
   ],
   "source": [
    "df.hist(bins=40, figsize=(20, 10))\n",
    "plt.show()"
   ]
  },
  {
   "cell_type": "code",
   "execution_count": 16,
   "id": "fae9445e",
   "metadata": {},
   "outputs": [
    {
     "data": {
      "image/png": "[encoded data removed]",
      "text/plain": [
       "<Figure size 640x480 with 1 Axes>"
      ]
     },
     "metadata": {},
     "output_type": "display_data"
    }
   ],
   "source": [
    "sns.countplot(data=df, x='Genre', order=df['Genre'].value_counts().index.tolist())\n",
    "plt.show()"
   ]
  },
  {
   "cell_type": "code",
   "execution_count": 17,
   "id": "74f42b22",
   "metadata": {},
   "outputs": [
    {
     "data": {
      "text/plain": [
       "<Axes: ylabel='Genre'>"
      ]
     },
     "execution_count": 17,
     "metadata": {},
     "output_type": "execute_result"
    },
    {
     "data": {
      "image/png": "[encoded data removed]",
      "text/plain": [
       "<Figure size 640x480 with 1 Axes>"
      ]
     },
     "metadata": {},
     "output_type": "display_data"
    }
   ],
   "source": [
    "sns.boxplot(data=df, y='Genre')"
   ]
  },
  {
   "cell_type": "markdown",
   "id": "9deee20f",
   "metadata": {},
   "source": [
    "* `Data Preprocessing`"
   ]
  },
  {
   "cell_type": "code",
   "execution_count": 18,
   "id": "9bae8828",
   "metadata": {},
   "outputs": [
    {
     "data": {
      "text/html": [
       "<div>\n",
       "<style scoped>\n",
       "    .dataframe tbody tr th:only-of-type {\n",
       "        vertical-align: middle;\n",
       "    }\n",
       "\n",
       "    .dataframe tbody tr th {\n",
       "        vertical-align: top;\n",
       "    }\n",
       "\n",
       "    .dataframe thead th {\n",
       "        text-align: right;\n",
       "    }\n",
       "</style>\n",
       "<table border=\"1\" class=\"dataframe\">\n",
       "  <thead>\n",
       "    <tr style=\"text-align: right;\">\n",
       "      <th></th>\n",
       "      <th>Tempo</th>\n",
       "      <th>Dynamics Range</th>\n",
       "      <th>Vocal Presence</th>\n",
       "      <th>Percussion Strength</th>\n",
       "      <th>String Instrument Detection</th>\n",
       "      <th>Electronic Element Presence</th>\n",
       "      <th>Rhythm Complexity</th>\n",
       "      <th>Drums Influence</th>\n",
       "      <th>Distorted Guitar</th>\n",
       "      <th>Metal Frequencies</th>\n",
       "      <th>Ambient Sound Influence</th>\n",
       "      <th>Instrumental Overlaps</th>\n",
       "      <th>Genre</th>\n",
       "    </tr>\n",
       "  </thead>\n",
       "  <tbody>\n",
       "    <tr>\n",
       "      <th>0</th>\n",
       "      <td>114.618354</td>\n",
       "      <td>57.976367</td>\n",
       "      <td>53.251766</td>\n",
       "      <td>99.061840</td>\n",
       "      <td>14.686768</td>\n",
       "      <td>17.628630</td>\n",
       "      <td>46.545522</td>\n",
       "      <td>75.839434</td>\n",
       "      <td>79.378892</td>\n",
       "      <td>71.753088</td>\n",
       "      <td>96.439665</td>\n",
       "      <td>53.771763</td>\n",
       "      <td>Country</td>\n",
       "    </tr>\n",
       "    <tr>\n",
       "      <th>1</th>\n",
       "      <td>116.672803</td>\n",
       "      <td>69.387087</td>\n",
       "      <td>95.787280</td>\n",
       "      <td>90.831033</td>\n",
       "      <td>47.280419</td>\n",
       "      <td>-15.618194</td>\n",
       "      <td>85.421085</td>\n",
       "      <td>100.455908</td>\n",
       "      <td>0.713015</td>\n",
       "      <td>0.000000</td>\n",
       "      <td>17.327295</td>\n",
       "      <td>15.017146</td>\n",
       "      <td>Classical</td>\n",
       "    </tr>\n",
       "    <tr>\n",
       "      <th>2</th>\n",
       "      <td>128.328121</td>\n",
       "      <td>52.930677</td>\n",
       "      <td>65.701187</td>\n",
       "      <td>104.439247</td>\n",
       "      <td>5.984994</td>\n",
       "      <td>50.467388</td>\n",
       "      <td>18.006722</td>\n",
       "      <td>77.642913</td>\n",
       "      <td>80.652946</td>\n",
       "      <td>87.692110</td>\n",
       "      <td>95.125207</td>\n",
       "      <td>25.308020</td>\n",
       "      <td>Rock</td>\n",
       "    </tr>\n",
       "    <tr>\n",
       "      <th>3</th>\n",
       "      <td>128.511337</td>\n",
       "      <td>25.494755</td>\n",
       "      <td>14.095374</td>\n",
       "      <td>40.106130</td>\n",
       "      <td>47.715584</td>\n",
       "      <td>87.335201</td>\n",
       "      <td>68.603329</td>\n",
       "      <td>63.536557</td>\n",
       "      <td>74.888346</td>\n",
       "      <td>76.239108</td>\n",
       "      <td>97.016998</td>\n",
       "      <td>96.893109</td>\n",
       "      <td>Hip-hop</td>\n",
       "    </tr>\n",
       "    <tr>\n",
       "      <th>4</th>\n",
       "      <td>135.474190</td>\n",
       "      <td>45.174876</td>\n",
       "      <td>101.469872</td>\n",
       "      <td>70.002203</td>\n",
       "      <td>108.177637</td>\n",
       "      <td>25.865590</td>\n",
       "      <td>31.295163</td>\n",
       "      <td>81.121030</td>\n",
       "      <td>36.178193</td>\n",
       "      <td>23.381542</td>\n",
       "      <td>53.753793</td>\n",
       "      <td>30.142986</td>\n",
       "      <td>Country</td>\n",
       "    </tr>\n",
       "  </tbody>\n",
       "</table>\n",
       "</div>"
      ],
      "text/plain": [
       "        Tempo  Dynamics Range  Vocal Presence  Percussion Strength  \\\n",
       "0  114.618354       57.976367       53.251766            99.061840   \n",
       "1  116.672803       69.387087       95.787280            90.831033   \n",
       "2  128.328121       52.930677       65.701187           104.439247   \n",
       "3  128.511337       25.494755       14.095374            40.106130   \n",
       "4  135.474190       45.174876      101.469872            70.002203   \n",
       "\n",
       "   String Instrument Detection  Electronic Element Presence  \\\n",
       "0                    14.686768                    17.628630   \n",
       "1                    47.280419                   -15.618194   \n",
       "2                     5.984994                    50.467388   \n",
       "3                    47.715584                    87.335201   \n",
       "4                   108.177637                    25.865590   \n",
       "\n",
       "   Rhythm Complexity  Drums Influence  Distorted Guitar  Metal Frequencies  \\\n",
       "0          46.545522        75.839434         79.378892          71.753088   \n",
       "1          85.421085       100.455908          0.713015           0.000000   \n",
       "2          18.006722        77.642913         80.652946          87.692110   \n",
       "3          68.603329        63.536557         74.888346          76.239108   \n",
       "4          31.295163        81.121030         36.178193          23.381542   \n",
       "\n",
       "   Ambient Sound Influence  Instrumental Overlaps      Genre  \n",
       "0                96.439665              53.771763    Country  \n",
       "1                17.327295              15.017146  Classical  \n",
       "2                95.125207              25.308020       Rock  \n",
       "3                97.016998              96.893109    Hip-hop  \n",
       "4                53.753793              30.142986    Country  "
      ]
     },
     "execution_count": 18,
     "metadata": {},
     "output_type": "execute_result"
    }
   ],
   "source": [
    "new_df = df\n",
    "new_df.head()"
   ]
  },
  {
   "cell_type": "code",
   "execution_count": 19,
   "id": "7db44c73",
   "metadata": {},
   "outputs": [
    {
     "data": {
      "text/html": [
       "<div>\n",
       "<style scoped>\n",
       "    .dataframe tbody tr th:only-of-type {\n",
       "        vertical-align: middle;\n",
       "    }\n",
       "\n",
       "    .dataframe tbody tr th {\n",
       "        vertical-align: top;\n",
       "    }\n",
       "\n",
       "    .dataframe thead th {\n",
       "        text-align: right;\n",
       "    }\n",
       "</style>\n",
       "<table border=\"1\" class=\"dataframe\">\n",
       "  <thead>\n",
       "    <tr style=\"text-align: right;\">\n",
       "      <th></th>\n",
       "      <th>Tempo</th>\n",
       "      <th>Dynamics Range</th>\n",
       "      <th>Vocal Presence</th>\n",
       "      <th>Percussion Strength</th>\n",
       "      <th>String Instrument Detection</th>\n",
       "      <th>Electronic Element Presence</th>\n",
       "      <th>Rhythm Complexity</th>\n",
       "      <th>Drums Influence</th>\n",
       "      <th>Distorted Guitar</th>\n",
       "      <th>Metal Frequencies</th>\n",
       "      <th>Ambient Sound Influence</th>\n",
       "      <th>Instrumental Overlaps</th>\n",
       "      <th>Genre</th>\n",
       "    </tr>\n",
       "  </thead>\n",
       "  <tbody>\n",
       "    <tr>\n",
       "      <th>0</th>\n",
       "      <td>114.618354</td>\n",
       "      <td>57.976367</td>\n",
       "      <td>53.251766</td>\n",
       "      <td>99.061840</td>\n",
       "      <td>14.686768</td>\n",
       "      <td>17.628630</td>\n",
       "      <td>46.545522</td>\n",
       "      <td>75.839434</td>\n",
       "      <td>79.378892</td>\n",
       "      <td>71.753088</td>\n",
       "      <td>96.439665</td>\n",
       "      <td>53.771763</td>\n",
       "      <td>Country</td>\n",
       "    </tr>\n",
       "    <tr>\n",
       "      <th>1</th>\n",
       "      <td>116.672803</td>\n",
       "      <td>69.387087</td>\n",
       "      <td>95.787280</td>\n",
       "      <td>90.831033</td>\n",
       "      <td>47.280419</td>\n",
       "      <td>-15.618194</td>\n",
       "      <td>85.421085</td>\n",
       "      <td>100.455908</td>\n",
       "      <td>0.713015</td>\n",
       "      <td>0.000000</td>\n",
       "      <td>17.327295</td>\n",
       "      <td>15.017146</td>\n",
       "      <td>Classical</td>\n",
       "    </tr>\n",
       "    <tr>\n",
       "      <th>2</th>\n",
       "      <td>128.328121</td>\n",
       "      <td>52.930677</td>\n",
       "      <td>65.701187</td>\n",
       "      <td>104.439247</td>\n",
       "      <td>5.984994</td>\n",
       "      <td>50.467388</td>\n",
       "      <td>18.006722</td>\n",
       "      <td>77.642913</td>\n",
       "      <td>80.652946</td>\n",
       "      <td>87.692110</td>\n",
       "      <td>95.125207</td>\n",
       "      <td>25.308020</td>\n",
       "      <td>Rock</td>\n",
       "    </tr>\n",
       "    <tr>\n",
       "      <th>3</th>\n",
       "      <td>128.511337</td>\n",
       "      <td>25.494755</td>\n",
       "      <td>14.095374</td>\n",
       "      <td>40.106130</td>\n",
       "      <td>47.715584</td>\n",
       "      <td>87.335201</td>\n",
       "      <td>68.603329</td>\n",
       "      <td>63.536557</td>\n",
       "      <td>74.888346</td>\n",
       "      <td>76.239108</td>\n",
       "      <td>97.016998</td>\n",
       "      <td>96.893109</td>\n",
       "      <td>Hip-hop</td>\n",
       "    </tr>\n",
       "    <tr>\n",
       "      <th>4</th>\n",
       "      <td>135.474190</td>\n",
       "      <td>45.174876</td>\n",
       "      <td>101.469872</td>\n",
       "      <td>70.002203</td>\n",
       "      <td>108.177637</td>\n",
       "      <td>25.865590</td>\n",
       "      <td>31.295163</td>\n",
       "      <td>81.121030</td>\n",
       "      <td>36.178193</td>\n",
       "      <td>23.381542</td>\n",
       "      <td>53.753793</td>\n",
       "      <td>30.142986</td>\n",
       "      <td>Country</td>\n",
       "    </tr>\n",
       "    <tr>\n",
       "      <th>...</th>\n",
       "      <td>...</td>\n",
       "      <td>...</td>\n",
       "      <td>...</td>\n",
       "      <td>...</td>\n",
       "      <td>...</td>\n",
       "      <td>...</td>\n",
       "      <td>...</td>\n",
       "      <td>...</td>\n",
       "      <td>...</td>\n",
       "      <td>...</td>\n",
       "      <td>...</td>\n",
       "      <td>...</td>\n",
       "      <td>...</td>\n",
       "    </tr>\n",
       "    <tr>\n",
       "      <th>973</th>\n",
       "      <td>133.807084</td>\n",
       "      <td>43.093084</td>\n",
       "      <td>88.711355</td>\n",
       "      <td>38.195402</td>\n",
       "      <td>25.365896</td>\n",
       "      <td>87.613700</td>\n",
       "      <td>74.603838</td>\n",
       "      <td>87.775499</td>\n",
       "      <td>28.055663</td>\n",
       "      <td>19.389458</td>\n",
       "      <td>74.576379</td>\n",
       "      <td>59.205448</td>\n",
       "      <td>Hip-hop</td>\n",
       "    </tr>\n",
       "    <tr>\n",
       "      <th>996</th>\n",
       "      <td>126.570862</td>\n",
       "      <td>57.812829</td>\n",
       "      <td>90.809940</td>\n",
       "      <td>64.880583</td>\n",
       "      <td>40.437517</td>\n",
       "      <td>38.051344</td>\n",
       "      <td>66.204244</td>\n",
       "      <td>95.770959</td>\n",
       "      <td>1.745673</td>\n",
       "      <td>6.729019</td>\n",
       "      <td>82.042218</td>\n",
       "      <td>43.590027</td>\n",
       "      <td>Classical</td>\n",
       "    </tr>\n",
       "    <tr>\n",
       "      <th>997</th>\n",
       "      <td>121.731543</td>\n",
       "      <td>51.385204</td>\n",
       "      <td>33.849400</td>\n",
       "      <td>17.044544</td>\n",
       "      <td>84.483481</td>\n",
       "      <td>13.312790</td>\n",
       "      <td>8.953013</td>\n",
       "      <td>64.068960</td>\n",
       "      <td>90.738580</td>\n",
       "      <td>96.043437</td>\n",
       "      <td>5.499350</td>\n",
       "      <td>74.604889</td>\n",
       "      <td>Rock</td>\n",
       "    </tr>\n",
       "    <tr>\n",
       "      <th>998</th>\n",
       "      <td>97.070804</td>\n",
       "      <td>19.210429</td>\n",
       "      <td>62.662860</td>\n",
       "      <td>22.720453</td>\n",
       "      <td>66.917937</td>\n",
       "      <td>80.590809</td>\n",
       "      <td>51.403310</td>\n",
       "      <td>50.828636</td>\n",
       "      <td>68.518232</td>\n",
       "      <td>55.119045</td>\n",
       "      <td>21.781372</td>\n",
       "      <td>24.716517</td>\n",
       "      <td>Rock</td>\n",
       "    </tr>\n",
       "    <tr>\n",
       "      <th>999</th>\n",
       "      <td>71.050781</td>\n",
       "      <td>32.967250</td>\n",
       "      <td>62.875776</td>\n",
       "      <td>78.868747</td>\n",
       "      <td>88.094454</td>\n",
       "      <td>59.148014</td>\n",
       "      <td>83.420324</td>\n",
       "      <td>59.582109</td>\n",
       "      <td>37.329193</td>\n",
       "      <td>44.576693</td>\n",
       "      <td>87.458414</td>\n",
       "      <td>78.270683</td>\n",
       "      <td>Jazz</td>\n",
       "    </tr>\n",
       "  </tbody>\n",
       "</table>\n",
       "<p>890 rows × 13 columns</p>\n",
       "</div>"
      ],
      "text/plain": [
       "          Tempo  Dynamics Range  Vocal Presence  Percussion Strength  \\\n",
       "0    114.618354       57.976367       53.251766            99.061840   \n",
       "1    116.672803       69.387087       95.787280            90.831033   \n",
       "2    128.328121       52.930677       65.701187           104.439247   \n",
       "3    128.511337       25.494755       14.095374            40.106130   \n",
       "4    135.474190       45.174876      101.469872            70.002203   \n",
       "..          ...             ...             ...                  ...   \n",
       "973  133.807084       43.093084       88.711355            38.195402   \n",
       "996  126.570862       57.812829       90.809940            64.880583   \n",
       "997  121.731543       51.385204       33.849400            17.044544   \n",
       "998   97.070804       19.210429       62.662860            22.720453   \n",
       "999   71.050781       32.967250       62.875776            78.868747   \n",
       "\n",
       "     String Instrument Detection  Electronic Element Presence  \\\n",
       "0                      14.686768                    17.628630   \n",
       "1                      47.280419                   -15.618194   \n",
       "2                       5.984994                    50.467388   \n",
       "3                      47.715584                    87.335201   \n",
       "4                     108.177637                    25.865590   \n",
       "..                           ...                          ...   \n",
       "973                    25.365896                    87.613700   \n",
       "996                    40.437517                    38.051344   \n",
       "997                    84.483481                    13.312790   \n",
       "998                    66.917937                    80.590809   \n",
       "999                    88.094454                    59.148014   \n",
       "\n",
       "     Rhythm Complexity  Drums Influence  Distorted Guitar  Metal Frequencies  \\\n",
       "0            46.545522        75.839434         79.378892          71.753088   \n",
       "1            85.421085       100.455908          0.713015           0.000000   \n",
       "2            18.006722        77.642913         80.652946          87.692110   \n",
       "3            68.603329        63.536557         74.888346          76.239108   \n",
       "4            31.295163        81.121030         36.178193          23.381542   \n",
       "..                 ...              ...               ...                ...   \n",
       "973          74.603838        87.775499         28.055663          19.389458   \n",
       "996          66.204244        95.770959          1.745673           6.729019   \n",
       "997           8.953013        64.068960         90.738580          96.043437   \n",
       "998          51.403310        50.828636         68.518232          55.119045   \n",
       "999          83.420324        59.582109         37.329193          44.576693   \n",
       "\n",
       "     Ambient Sound Influence  Instrumental Overlaps      Genre  \n",
       "0                  96.439665              53.771763    Country  \n",
       "1                  17.327295              15.017146  Classical  \n",
       "2                  95.125207              25.308020       Rock  \n",
       "3                  97.016998              96.893109    Hip-hop  \n",
       "4                  53.753793              30.142986    Country  \n",
       "..                       ...                    ...        ...  \n",
       "973                74.576379              59.205448    Hip-hop  \n",
       "996                82.042218              43.590027  Classical  \n",
       "997                 5.499350              74.604889       Rock  \n",
       "998                21.781372              24.716517       Rock  \n",
       "999                87.458414              78.270683       Jazz  \n",
       "\n",
       "[890 rows x 13 columns]"
      ]
     },
     "execution_count": 19,
     "metadata": {},
     "output_type": "execute_result"
    }
   ],
   "source": [
    "df_cleaned = new_df.dropna()\n",
    "df_cleaned"
   ]
  },
  {
   "cell_type": "code",
   "execution_count": 21,
   "id": "8bd6cf91",
   "metadata": {},
   "outputs": [],
   "source": [
    "X = df_cleaned.drop('Genre', axis=1)\n",
    "Y = df_cleaned['Genre']"
   ]
  },
  {
   "cell_type": "code",
   "execution_count": 22,
   "id": "0ab039b7",
   "metadata": {},
   "outputs": [
    {
     "data": {
      "text/html": [
       "<div>\n",
       "<style scoped>\n",
       "    .dataframe tbody tr th:only-of-type {\n",
       "        vertical-align: middle;\n",
       "    }\n",
       "\n",
       "    .dataframe tbody tr th {\n",
       "        vertical-align: top;\n",
       "    }\n",
       "\n",
       "    .dataframe thead th {\n",
       "        text-align: right;\n",
       "    }\n",
       "</style>\n",
       "<table border=\"1\" class=\"dataframe\">\n",
       "  <thead>\n",
       "    <tr style=\"text-align: right;\">\n",
       "      <th></th>\n",
       "      <th>Tempo</th>\n",
       "      <th>Dynamics Range</th>\n",
       "      <th>Vocal Presence</th>\n",
       "      <th>Percussion Strength</th>\n",
       "      <th>String Instrument Detection</th>\n",
       "      <th>Electronic Element Presence</th>\n",
       "      <th>Rhythm Complexity</th>\n",
       "      <th>Drums Influence</th>\n",
       "      <th>Distorted Guitar</th>\n",
       "      <th>Metal Frequencies</th>\n",
       "      <th>Ambient Sound Influence</th>\n",
       "      <th>Instrumental Overlaps</th>\n",
       "    </tr>\n",
       "  </thead>\n",
       "  <tbody>\n",
       "    <tr>\n",
       "      <th>0</th>\n",
       "      <td>114.618354</td>\n",
       "      <td>57.976367</td>\n",
       "      <td>53.251766</td>\n",
       "      <td>99.061840</td>\n",
       "      <td>14.686768</td>\n",
       "      <td>17.628630</td>\n",
       "      <td>46.545522</td>\n",
       "      <td>75.839434</td>\n",
       "      <td>79.378892</td>\n",
       "      <td>71.753088</td>\n",
       "      <td>96.439665</td>\n",
       "      <td>53.771763</td>\n",
       "    </tr>\n",
       "    <tr>\n",
       "      <th>1</th>\n",
       "      <td>116.672803</td>\n",
       "      <td>69.387087</td>\n",
       "      <td>95.787280</td>\n",
       "      <td>90.831033</td>\n",
       "      <td>47.280419</td>\n",
       "      <td>-15.618194</td>\n",
       "      <td>85.421085</td>\n",
       "      <td>100.455908</td>\n",
       "      <td>0.713015</td>\n",
       "      <td>0.000000</td>\n",
       "      <td>17.327295</td>\n",
       "      <td>15.017146</td>\n",
       "    </tr>\n",
       "    <tr>\n",
       "      <th>2</th>\n",
       "      <td>128.328121</td>\n",
       "      <td>52.930677</td>\n",
       "      <td>65.701187</td>\n",
       "      <td>104.439247</td>\n",
       "      <td>5.984994</td>\n",
       "      <td>50.467388</td>\n",
       "      <td>18.006722</td>\n",
       "      <td>77.642913</td>\n",
       "      <td>80.652946</td>\n",
       "      <td>87.692110</td>\n",
       "      <td>95.125207</td>\n",
       "      <td>25.308020</td>\n",
       "    </tr>\n",
       "    <tr>\n",
       "      <th>3</th>\n",
       "      <td>128.511337</td>\n",
       "      <td>25.494755</td>\n",
       "      <td>14.095374</td>\n",
       "      <td>40.106130</td>\n",
       "      <td>47.715584</td>\n",
       "      <td>87.335201</td>\n",
       "      <td>68.603329</td>\n",
       "      <td>63.536557</td>\n",
       "      <td>74.888346</td>\n",
       "      <td>76.239108</td>\n",
       "      <td>97.016998</td>\n",
       "      <td>96.893109</td>\n",
       "    </tr>\n",
       "    <tr>\n",
       "      <th>4</th>\n",
       "      <td>135.474190</td>\n",
       "      <td>45.174876</td>\n",
       "      <td>101.469872</td>\n",
       "      <td>70.002203</td>\n",
       "      <td>108.177637</td>\n",
       "      <td>25.865590</td>\n",
       "      <td>31.295163</td>\n",
       "      <td>81.121030</td>\n",
       "      <td>36.178193</td>\n",
       "      <td>23.381542</td>\n",
       "      <td>53.753793</td>\n",
       "      <td>30.142986</td>\n",
       "    </tr>\n",
       "  </tbody>\n",
       "</table>\n",
       "</div>"
      ],
      "text/plain": [
       "        Tempo  Dynamics Range  Vocal Presence  Percussion Strength  \\\n",
       "0  114.618354       57.976367       53.251766            99.061840   \n",
       "1  116.672803       69.387087       95.787280            90.831033   \n",
       "2  128.328121       52.930677       65.701187           104.439247   \n",
       "3  128.511337       25.494755       14.095374            40.106130   \n",
       "4  135.474190       45.174876      101.469872            70.002203   \n",
       "\n",
       "   String Instrument Detection  Electronic Element Presence  \\\n",
       "0                    14.686768                    17.628630   \n",
       "1                    47.280419                   -15.618194   \n",
       "2                     5.984994                    50.467388   \n",
       "3                    47.715584                    87.335201   \n",
       "4                   108.177637                    25.865590   \n",
       "\n",
       "   Rhythm Complexity  Drums Influence  Distorted Guitar  Metal Frequencies  \\\n",
       "0          46.545522        75.839434         79.378892          71.753088   \n",
       "1          85.421085       100.455908          0.713015           0.000000   \n",
       "2          18.006722        77.642913         80.652946          87.692110   \n",
       "3          68.603329        63.536557         74.888346          76.239108   \n",
       "4          31.295163        81.121030         36.178193          23.381542   \n",
       "\n",
       "   Ambient Sound Influence  Instrumental Overlaps  \n",
       "0                96.439665              53.771763  \n",
       "1                17.327295              15.017146  \n",
       "2                95.125207              25.308020  \n",
       "3                97.016998              96.893109  \n",
       "4                53.753793              30.142986  "
      ]
     },
     "execution_count": 22,
     "metadata": {},
     "output_type": "execute_result"
    }
   ],
   "source": [
    "X.head()"
   ]
  },
  {
   "cell_type": "code",
   "execution_count": 23,
   "id": "990d8e83",
   "metadata": {},
   "outputs": [
    {
     "data": {
      "text/plain": [
       "0      Country\n",
       "1    Classical\n",
       "2         Rock\n",
       "3      Hip-hop\n",
       "4      Country\n",
       "Name: Genre, dtype: object"
      ]
     },
     "execution_count": 23,
     "metadata": {},
     "output_type": "execute_result"
    }
   ],
   "source": [
    "Y.head()"
   ]
  },
  {
   "cell_type": "markdown",
   "id": "4a91cb4f",
   "metadata": {},
   "source": [
    "* `Label Encoding`"
   ]
  },
  {
   "cell_type": "code",
   "execution_count": 24,
   "id": "2bed6cb9",
   "metadata": {},
   "outputs": [],
   "source": [
    "le = LabelEncoder()"
   ]
  },
  {
   "cell_type": "code",
   "execution_count": 43,
   "id": "fd05ced2",
   "metadata": {},
   "outputs": [
    {
     "data": {
      "text/plain": [
       "array([1, 0, 4, 2, 1, 4, 2, 1, 1, 1, 0, 2, 2, 4, 2, 4, 3, 0, 4, 2, 1, 0,\n",
       "       1, 3, 3, 4, 3, 4, 2, 1, 4, 1, 4, 0, 0, 3, 0, 3, 4, 0, 3, 1, 3, 1,\n",
       "       2, 1, 4, 1, 4, 0, 1, 1, 0, 3, 2, 4, 4, 1, 2, 0, 1, 1, 0, 3, 1, 3,\n",
       "       4, 2, 2, 3, 0, 2, 1, 3, 2, 2, 0, 2, 3, 1, 0, 4, 3, 2, 0, 2, 3, 1,\n",
       "       1, 0, 4, 1, 3, 2, 3, 4, 1, 1, 4, 0, 0, 1, 3, 3, 4, 4, 2, 0, 0, 1,\n",
       "       3, 4, 3, 2, 3, 1, 0, 2, 1, 0, 2, 4, 4, 3, 1, 2, 4, 1, 2, 1, 2, 1,\n",
       "       0, 2, 1, 2, 4, 3, 2, 1, 3, 1, 4, 1, 0, 1, 2, 2, 2, 1, 1, 2, 3, 4,\n",
       "       1, 2, 2, 4, 4, 2, 0, 3, 4, 4, 1, 4, 1, 2, 3, 0, 3, 4, 4, 4, 3, 0,\n",
       "       4, 0, 4, 3, 3, 2, 3, 4, 0, 1, 1, 4, 3, 2, 1, 1, 3, 2, 4, 1, 0, 2,\n",
       "       1, 4, 0, 2, 2, 4, 0, 2, 3, 0, 0, 2, 4, 2, 3, 3, 4, 2, 3, 1, 1, 0,\n",
       "       3, 2, 4, 3, 2, 3, 1, 4, 3, 3, 0, 3, 4, 3, 0, 4, 4, 3, 1, 1, 4, 0,\n",
       "       3, 2, 3, 3, 1, 0, 3, 1, 3, 4, 3, 3, 2, 1, 3, 2, 0, 4, 4, 1, 3, 2,\n",
       "       3, 4, 1, 3, 4, 3, 1, 0, 4, 3, 0, 2, 2, 0, 4, 2, 4, 2, 1, 1, 0, 3,\n",
       "       2, 4, 2, 1, 3, 4, 1, 2, 0, 4, 2, 4, 3, 3, 4, 0, 1, 3, 2, 2, 1, 4,\n",
       "       2, 3, 0, 4, 2, 4, 0, 1, 3, 0, 0, 0, 1, 1, 4, 0, 1, 1, 3, 0, 4, 4,\n",
       "       4, 2, 1, 3, 4, 2, 1, 2, 0, 1, 0, 0, 3, 4, 1, 1, 4, 3, 0, 4, 2, 2,\n",
       "       1, 0, 2, 1, 4, 1, 1, 1, 1, 3, 2, 0, 3, 1, 4, 2, 4, 4, 4, 4, 4, 0,\n",
       "       4, 2, 1, 0, 2, 3, 1, 4, 1, 3, 0, 3, 1, 1, 0, 4, 2, 2, 1, 0, 0, 3,\n",
       "       3, 3, 3, 0, 0, 3, 2, 2, 0, 2, 2, 3, 4, 1, 3, 2, 3, 4, 4, 2, 0, 0,\n",
       "       1, 3, 3, 4, 0, 2, 4, 4, 2, 4, 0, 3, 1, 1, 3, 1, 4, 1, 2, 1, 4, 1,\n",
       "       2, 1, 0, 3, 4, 3, 0, 3, 2, 4, 2, 4, 1, 1, 0, 4, 2, 0, 0, 2, 4, 3,\n",
       "       3, 1, 1, 3, 3, 4, 1, 2, 1, 0, 0, 4, 1, 1, 3, 0, 1, 0, 2, 0, 2, 0,\n",
       "       0, 4, 4, 3, 4, 4, 2, 2, 4, 4, 3, 3, 0, 0, 4, 0, 2, 1, 2, 4, 4, 0,\n",
       "       1, 0, 0, 4, 3, 3, 0, 2, 0, 3, 3, 3, 0, 0, 1, 0, 4, 4, 3, 0, 3, 2,\n",
       "       1, 3, 1, 0, 1, 1, 3, 0, 3, 3, 0, 2, 1, 1, 0, 2, 0, 0, 3, 3, 0, 0,\n",
       "       2, 3, 0, 2, 1, 0, 3, 1, 0, 2, 4, 0, 3, 4, 1, 2, 0, 4, 2, 1, 3, 2,\n",
       "       3, 4, 1, 2, 4, 3, 2, 4, 1, 4, 4, 4, 3, 0, 2, 3, 0, 3, 2, 2, 2, 1,\n",
       "       3, 2, 3, 2, 3, 3, 2, 3, 1, 3, 3, 3, 0, 1, 0, 3, 3, 4, 4, 3, 4, 2,\n",
       "       0, 0, 4, 4, 0, 2, 2, 4, 0, 1, 4, 4, 4, 1, 0, 3, 1, 4, 4, 3, 2, 4,\n",
       "       4, 4, 1, 3, 3, 4, 2, 0, 0, 4, 4, 3, 1, 1, 3, 3, 0, 3, 0, 4, 3, 2,\n",
       "       0, 0, 1, 4, 3, 4, 0, 4, 1, 4, 1, 3, 1, 4, 2, 1, 4, 4, 2, 3, 3, 1,\n",
       "       0, 3, 2, 4, 3, 3, 2, 3, 2, 0, 3, 2, 2, 4, 1, 0, 4, 2, 0, 2, 4, 0,\n",
       "       3, 3, 1, 2, 0, 1, 1, 4, 0, 2, 3, 0, 0, 0, 2, 3, 1, 4, 0, 1, 1, 3,\n",
       "       0, 0, 0, 3, 0, 2, 1, 3, 3, 4, 2, 1, 1, 2, 2, 2, 1, 3, 4, 1, 2, 3,\n",
       "       1, 2, 4, 4, 1, 1, 1, 1, 0, 0, 2, 0, 1, 4, 3, 2, 2, 4, 2, 0, 3, 4,\n",
       "       1, 1, 0, 4, 3, 2, 4, 0, 2, 4, 2, 3, 3, 2, 2, 3, 4, 2, 3, 1, 2, 0,\n",
       "       4, 4, 2, 1, 3, 3, 3, 1, 1, 2, 1, 3, 3, 3, 0, 2, 3, 3, 0, 0, 4, 3,\n",
       "       1, 4, 0, 4, 4, 4, 3, 3, 3, 1, 4, 0, 3, 0, 2, 1, 1, 2, 3, 4, 3, 0,\n",
       "       0, 0, 3, 3, 1, 4, 0, 2, 3, 4, 4, 2, 1, 1, 1, 1, 4, 1, 1, 1, 3, 1,\n",
       "       4, 0, 4, 1, 4, 2, 1, 1, 2, 2, 3, 4, 4, 4, 0, 2, 4, 2, 4, 2, 4, 4,\n",
       "       2, 1, 4, 3, 0, 2, 0, 4, 4, 3])"
      ]
     },
     "execution_count": 43,
     "metadata": {},
     "output_type": "execute_result"
    }
   ],
   "source": [
    "encoded_Y = le.fit_transform(Y)\n",
    "encoded_Y"
   ]
  },
  {
   "cell_type": "code",
   "execution_count": 44,
   "id": "2f4373b4",
   "metadata": {},
   "outputs": [
    {
     "name": "stderr",
     "output_type": "stream",
     "text": [
      "C:\\temp\\ipykernel_16740\\983323321.py:1: SettingWithCopyWarning: \n",
      "A value is trying to be set on a copy of a slice from a DataFrame.\n",
      "Try using .loc[row_indexer,col_indexer] = value instead\n",
      "\n",
      "See the caveats in the documentation: https://pandas.pydata.org/pandas-docs/stable/user_guide/indexing.html#returning-a-view-versus-a-copy\n",
      "  df_cleaned['Genre'] = encoded_Y\n"
     ]
    },
    {
     "data": {
      "text/html": [
       "<div>\n",
       "<style scoped>\n",
       "    .dataframe tbody tr th:only-of-type {\n",
       "        vertical-align: middle;\n",
       "    }\n",
       "\n",
       "    .dataframe tbody tr th {\n",
       "        vertical-align: top;\n",
       "    }\n",
       "\n",
       "    .dataframe thead th {\n",
       "        text-align: right;\n",
       "    }\n",
       "</style>\n",
       "<table border=\"1\" class=\"dataframe\">\n",
       "  <thead>\n",
       "    <tr style=\"text-align: right;\">\n",
       "      <th></th>\n",
       "      <th>Tempo</th>\n",
       "      <th>Dynamics Range</th>\n",
       "      <th>Vocal Presence</th>\n",
       "      <th>Percussion Strength</th>\n",
       "      <th>String Instrument Detection</th>\n",
       "      <th>Electronic Element Presence</th>\n",
       "      <th>Rhythm Complexity</th>\n",
       "      <th>Drums Influence</th>\n",
       "      <th>Distorted Guitar</th>\n",
       "      <th>Metal Frequencies</th>\n",
       "      <th>Ambient Sound Influence</th>\n",
       "      <th>Instrumental Overlaps</th>\n",
       "      <th>Genre</th>\n",
       "    </tr>\n",
       "  </thead>\n",
       "  <tbody>\n",
       "    <tr>\n",
       "      <th>0</th>\n",
       "      <td>114.618354</td>\n",
       "      <td>57.976367</td>\n",
       "      <td>53.251766</td>\n",
       "      <td>99.061840</td>\n",
       "      <td>14.686768</td>\n",
       "      <td>17.628630</td>\n",
       "      <td>46.545522</td>\n",
       "      <td>75.839434</td>\n",
       "      <td>79.378892</td>\n",
       "      <td>71.753088</td>\n",
       "      <td>96.439665</td>\n",
       "      <td>53.771763</td>\n",
       "      <td>1</td>\n",
       "    </tr>\n",
       "    <tr>\n",
       "      <th>1</th>\n",
       "      <td>116.672803</td>\n",
       "      <td>69.387087</td>\n",
       "      <td>95.787280</td>\n",
       "      <td>90.831033</td>\n",
       "      <td>47.280419</td>\n",
       "      <td>-15.618194</td>\n",
       "      <td>85.421085</td>\n",
       "      <td>100.455908</td>\n",
       "      <td>0.713015</td>\n",
       "      <td>0.000000</td>\n",
       "      <td>17.327295</td>\n",
       "      <td>15.017146</td>\n",
       "      <td>0</td>\n",
       "    </tr>\n",
       "    <tr>\n",
       "      <th>2</th>\n",
       "      <td>128.328121</td>\n",
       "      <td>52.930677</td>\n",
       "      <td>65.701187</td>\n",
       "      <td>104.439247</td>\n",
       "      <td>5.984994</td>\n",
       "      <td>50.467388</td>\n",
       "      <td>18.006722</td>\n",
       "      <td>77.642913</td>\n",
       "      <td>80.652946</td>\n",
       "      <td>87.692110</td>\n",
       "      <td>95.125207</td>\n",
       "      <td>25.308020</td>\n",
       "      <td>4</td>\n",
       "    </tr>\n",
       "    <tr>\n",
       "      <th>3</th>\n",
       "      <td>128.511337</td>\n",
       "      <td>25.494755</td>\n",
       "      <td>14.095374</td>\n",
       "      <td>40.106130</td>\n",
       "      <td>47.715584</td>\n",
       "      <td>87.335201</td>\n",
       "      <td>68.603329</td>\n",
       "      <td>63.536557</td>\n",
       "      <td>74.888346</td>\n",
       "      <td>76.239108</td>\n",
       "      <td>97.016998</td>\n",
       "      <td>96.893109</td>\n",
       "      <td>2</td>\n",
       "    </tr>\n",
       "    <tr>\n",
       "      <th>4</th>\n",
       "      <td>135.474190</td>\n",
       "      <td>45.174876</td>\n",
       "      <td>101.469872</td>\n",
       "      <td>70.002203</td>\n",
       "      <td>108.177637</td>\n",
       "      <td>25.865590</td>\n",
       "      <td>31.295163</td>\n",
       "      <td>81.121030</td>\n",
       "      <td>36.178193</td>\n",
       "      <td>23.381542</td>\n",
       "      <td>53.753793</td>\n",
       "      <td>30.142986</td>\n",
       "      <td>1</td>\n",
       "    </tr>\n",
       "  </tbody>\n",
       "</table>\n",
       "</div>"
      ],
      "text/plain": [
       "        Tempo  Dynamics Range  Vocal Presence  Percussion Strength  \\\n",
       "0  114.618354       57.976367       53.251766            99.061840   \n",
       "1  116.672803       69.387087       95.787280            90.831033   \n",
       "2  128.328121       52.930677       65.701187           104.439247   \n",
       "3  128.511337       25.494755       14.095374            40.106130   \n",
       "4  135.474190       45.174876      101.469872            70.002203   \n",
       "\n",
       "   String Instrument Detection  Electronic Element Presence  \\\n",
       "0                    14.686768                    17.628630   \n",
       "1                    47.280419                   -15.618194   \n",
       "2                     5.984994                    50.467388   \n",
       "3                    47.715584                    87.335201   \n",
       "4                   108.177637                    25.865590   \n",
       "\n",
       "   Rhythm Complexity  Drums Influence  Distorted Guitar  Metal Frequencies  \\\n",
       "0          46.545522        75.839434         79.378892          71.753088   \n",
       "1          85.421085       100.455908          0.713015           0.000000   \n",
       "2          18.006722        77.642913         80.652946          87.692110   \n",
       "3          68.603329        63.536557         74.888346          76.239108   \n",
       "4          31.295163        81.121030         36.178193          23.381542   \n",
       "\n",
       "   Ambient Sound Influence  Instrumental Overlaps  Genre  \n",
       "0                96.439665              53.771763      1  \n",
       "1                17.327295              15.017146      0  \n",
       "2                95.125207              25.308020      4  \n",
       "3                97.016998              96.893109      2  \n",
       "4                53.753793              30.142986      1  "
      ]
     },
     "execution_count": 44,
     "metadata": {},
     "output_type": "execute_result"
    }
   ],
   "source": [
    "df_cleaned['Genre'] = encoded_Y\n",
    "df_cleaned.head()"
   ]
  },
  {
   "cell_type": "code",
   "execution_count": 28,
   "id": "54103bca",
   "metadata": {},
   "outputs": [
    {
     "data": {
      "text/plain": [
       "<Axes: >"
      ]
     },
     "execution_count": 28,
     "metadata": {},
     "output_type": "execute_result"
    },
    {
     "data": {
      "image/png": "[encoded data removed]",
      "text/plain": [
       "<Figure size 640x480 with 2 Axes>"
      ]
     },
     "metadata": {},
     "output_type": "display_data"
    }
   ],
   "source": [
    "corr = df_cleaned.select_dtypes('number').corr()\n",
    "sns.heatmap(corr)"
   ]
  },
  {
   "cell_type": "code",
   "execution_count": 71,
   "id": "e6d6d6b2",
   "metadata": {},
   "outputs": [
    {
     "name": "stdout",
     "output_type": "stream",
     "text": [
      "Correlation between 'Metal Frequencies' and 'Distorted Guitar': 0.9659088405873414\n"
     ]
    }
   ],
   "source": [
    "# Extract the specific correlation coefficient\n",
    "correlation = corr.loc['Metal Frequencies', 'Distorted Guitar']\n",
    "print(f\"Correlation between 'Metal Frequencies' and 'Distorted Guitar': {correlation}\")"
   ]
  },
  {
   "cell_type": "markdown",
   "id": "957eabb4",
   "metadata": {},
   "source": [
    "---"
   ]
  },
  {
   "cell_type": "markdown",
   "id": "7fda87ae",
   "metadata": {},
   "source": [
    "* `PCA`"
   ]
  },
  {
   "cell_type": "code",
   "execution_count": 32,
   "id": "39a862f9",
   "metadata": {},
   "outputs": [
    {
     "data": {
      "text/plain": [
       "array([[-0.32276419,  0.63236264,  0.05320844, ...,  0.76493507,\n",
       "         1.53633887,  0.16037718],\n",
       "       [-0.21834523,  1.26791613,  1.52189513, ..., -1.4654764 ,\n",
       "        -1.15313543, -1.16143819],\n",
       "       [ 0.37404526,  0.35132812,  0.48306804, ...,  1.26039216,\n",
       "         1.49165303, -0.81044425],\n",
       "       ...,\n",
       "       [ 0.03876913,  0.26524849, -0.61672579, ...,  1.51998929,\n",
       "        -1.55523377,  0.8709389 ],\n",
       "       [-1.2146319 , -1.52681996,  0.37815922, ...,  0.24787354,\n",
       "        -1.00171631, -0.83061884],\n",
       "       [-2.53711957, -0.76059346,  0.38551088, ..., -0.07983057,\n",
       "         1.23101564,  0.9959692 ]])"
      ]
     },
     "execution_count": 32,
     "metadata": {},
     "output_type": "execute_result"
    }
   ],
   "source": [
    "scaler = StandardScaler()\n",
    "X_scaled = scaler.fit_transform(X)\n",
    "X_scaled"
   ]
  },
  {
   "cell_type": "code",
   "execution_count": 33,
   "id": "a42edd70",
   "metadata": {},
   "outputs": [],
   "source": [
    "pca = PCA()"
   ]
  },
  {
   "cell_type": "code",
   "execution_count": 34,
   "id": "a236bbfc",
   "metadata": {},
   "outputs": [
    {
     "data": {
      "text/plain": [
       "array([[-1.0572597 ,  0.28161626,  0.62342202, ...,  0.74994362,\n",
       "        -0.41133069, -0.20089952],\n",
       "       [ 1.86454175,  2.72389526, -0.06110915, ..., -0.46808373,\n",
       "        -0.06524083, -0.03262838],\n",
       "       [-1.86197335,  0.0390771 ,  0.30639382, ...,  1.12924615,\n",
       "        -0.20497339,  0.13108671],\n",
       "       ...,\n",
       "       [-0.41959195, -2.19097097,  1.57481878, ...,  0.61746001,\n",
       "         0.86535466,  0.11015801],\n",
       "       [-0.59721268, -2.33887467, -0.91433944, ..., -0.92203511,\n",
       "        -0.11584256, -0.27384145],\n",
       "       [ 0.33474784, -0.75956161,  0.16804437, ..., -0.96472679,\n",
       "        -0.77845888,  0.16213001]])"
      ]
     },
     "execution_count": 34,
     "metadata": {},
     "output_type": "execute_result"
    }
   ],
   "source": [
    "X_pca = pca.fit_transform(X_scaled)\n",
    "X_pca"
   ]
  },
  {
   "cell_type": "markdown",
   "id": "b5b3737c",
   "metadata": {},
   "source": [
    "* `Explained Variance by Components`"
   ]
  },
  {
   "cell_type": "code",
   "execution_count": 35,
   "id": "447b4e31",
   "metadata": {},
   "outputs": [
    {
     "data": {
      "text/plain": [
       "array([0.20063071, 0.15062807, 0.09369199, 0.08696907, 0.08536054,\n",
       "       0.08167379, 0.07948271, 0.07613474, 0.07000221, 0.05996203,\n",
       "       0.01267309, 0.00279105])"
      ]
     },
     "execution_count": 35,
     "metadata": {},
     "output_type": "execute_result"
    }
   ],
   "source": [
    "explained_vairiance_ratio = pca.explained_variance_ratio_\n",
    "explained_vairiance_ratio"
   ]
  },
  {
   "cell_type": "code",
   "execution_count": 36,
   "id": "3c386c80",
   "metadata": {},
   "outputs": [
    {
     "data": {
      "image/png": "[encoded data removed]",
      "text/plain": [
       "<Figure size 640x480 with 1 Axes>"
      ]
     },
     "metadata": {},
     "output_type": "display_data"
    }
   ],
   "source": [
    "cumulative_variance_ratio = np.cumsum(explained_vairiance_ratio)\n",
    "plt.plot(range(1, len(cumulative_variance_ratio) +1), cumulative_variance_ratio, 'bo-')\n",
    "plt.xlabel('Number of Components')\n",
    "plt.ylabel('Cumulative Explained Variance Ratio')\n",
    "plt.title('Explained Variance by Components')\n",
    "plt.show()"
   ]
  },
  {
   "cell_type": "code",
   "execution_count": 67,
   "id": "254a3366",
   "metadata": {},
   "outputs": [
    {
     "data": {
      "text/plain": [
       "8"
      ]
     },
     "execution_count": 67,
     "metadata": {},
     "output_type": "execute_result"
    }
   ],
   "source": [
    "n_component = np.argmax(cumulative_variance_ratio >= 0.8) + 1\n",
    "n_component"
   ]
  },
  {
   "cell_type": "code",
   "execution_count": 39,
   "id": "da161568",
   "metadata": {},
   "outputs": [
    {
     "data": {
      "text/plain": [
       "array([[-1.0572597 ,  0.28161626,  0.62342202, ...,  1.05439349,\n",
       "         0.24994853, -0.27158679],\n",
       "       [ 1.86454175,  2.72389526, -0.06110915, ...,  1.34651169,\n",
       "         1.06142384,  0.17034065],\n",
       "       [-1.86197335,  0.0390771 ,  0.30639382, ...,  0.29362059,\n",
       "         0.66875032,  0.49138804],\n",
       "       ...,\n",
       "       [-0.41959195, -2.19097097,  1.57481878, ..., -0.10027041,\n",
       "         0.47496282, -1.95550656],\n",
       "       [-0.59721268, -2.33887467, -0.91433944, ...,  0.13583326,\n",
       "         0.02134544,  0.88701971],\n",
       "       [ 0.33474784, -0.75956161,  0.16804437, ...,  2.28079533,\n",
       "        -1.54104915,  1.21769653]])"
      ]
     },
     "execution_count": 39,
     "metadata": {},
     "output_type": "execute_result"
    }
   ],
   "source": [
    "pca_final = PCA(n_components=n_component)\n",
    "X_reduced = pca_final.fit_transform(X_scaled)\n",
    "X_reduced"
   ]
  },
  {
   "cell_type": "markdown",
   "id": "edbf50e1",
   "metadata": {},
   "source": [
    "* `Split the Dataset to train and test`"
   ]
  },
  {
   "cell_type": "code",
   "execution_count": 45,
   "id": "afc41502",
   "metadata": {},
   "outputs": [],
   "source": [
    "X_train, X_test, y_train, y_test = train_test_split(X_reduced, encoded_Y, test_size=0.3, random_state=42)"
   ]
  },
  {
   "cell_type": "markdown",
   "id": "ac7ba68f",
   "metadata": {},
   "source": [
    "* `Logistic Regression`"
   ]
  },
  {
   "cell_type": "code",
   "execution_count": 46,
   "id": "8398fd35",
   "metadata": {},
   "outputs": [
    {
     "data": {
      "text/html": [
       "<style>#sk-container-id-2 {color: black;background-color: white;}#sk-container-id-2 pre{padding: 0;}#sk-container-id-2 div.sk-toggleable {background-color: white;}#sk-container-id-2 label.sk-toggleable__label {cursor: pointer;display: block;width: 100%;margin-bottom: 0;padding: 0.3em;box-sizing: border-box;text-align: center;}#sk-container-id-2 label.sk-toggleable__label-arrow:before {content: \"▸\";float: left;margin-right: 0.25em;color: #696969;}#sk-container-id-2 label.sk-toggleable__label-arrow:hover:before {color: black;}#sk-container-id-2 div.sk-estimator:hover label.sk-toggleable__label-arrow:before {color: black;}#sk-container-id-2 div.sk-toggleable__content {max-height: 0;max-width: 0;overflow: hidden;text-align: left;background-color: #f0f8ff;}#sk-container-id-2 div.sk-toggleable__content pre {margin: 0.2em;color: black;border-radius: 0.25em;background-color: #f0f8ff;}#sk-container-id-2 input.sk-toggleable__control:checked~div.sk-toggleable__content {max-height: 200px;max-width: 100%;overflow: auto;}#sk-container-id-2 input.sk-toggleable__control:checked~label.sk-toggleable__label-arrow:before {content: \"▾\";}#sk-container-id-2 div.sk-estimator input.sk-toggleable__control:checked~label.sk-toggleable__label {background-color: #d4ebff;}#sk-container-id-2 div.sk-label input.sk-toggleable__control:checked~label.sk-toggleable__label {background-color: #d4ebff;}#sk-container-id-2 input.sk-hidden--visually {border: 0;clip: rect(1px 1px 1px 1px);clip: rect(1px, 1px, 1px, 1px);height: 1px;margin: -1px;overflow: hidden;padding: 0;position: absolute;width: 1px;}#sk-container-id-2 div.sk-estimator {font-family: monospace;background-color: #f0f8ff;border: 1px dotted black;border-radius: 0.25em;box-sizing: border-box;margin-bottom: 0.5em;}#sk-container-id-2 div.sk-estimator:hover {background-color: #d4ebff;}#sk-container-id-2 div.sk-parallel-item::after {content: \"\";width: 100%;border-bottom: 1px solid gray;flex-grow: 1;}#sk-container-id-2 div.sk-label:hover label.sk-toggleable__label {background-color: #d4ebff;}#sk-container-id-2 div.sk-serial::before {content: \"\";position: absolute;border-left: 1px solid gray;box-sizing: border-box;top: 0;bottom: 0;left: 50%;z-index: 0;}#sk-container-id-2 div.sk-serial {display: flex;flex-direction: column;align-items: center;background-color: white;padding-right: 0.2em;padding-left: 0.2em;position: relative;}#sk-container-id-2 div.sk-item {position: relative;z-index: 1;}#sk-container-id-2 div.sk-parallel {display: flex;align-items: stretch;justify-content: center;background-color: white;position: relative;}#sk-container-id-2 div.sk-item::before, #sk-container-id-2 div.sk-parallel-item::before {content: \"\";position: absolute;border-left: 1px solid gray;box-sizing: border-box;top: 0;bottom: 0;left: 50%;z-index: -1;}#sk-container-id-2 div.sk-parallel-item {display: flex;flex-direction: column;z-index: 1;position: relative;background-color: white;}#sk-container-id-2 div.sk-parallel-item:first-child::after {align-self: flex-end;width: 50%;}#sk-container-id-2 div.sk-parallel-item:last-child::after {align-self: flex-start;width: 50%;}#sk-container-id-2 div.sk-parallel-item:only-child::after {width: 0;}#sk-container-id-2 div.sk-dashed-wrapped {border: 1px dashed gray;margin: 0 0.4em 0.5em 0.4em;box-sizing: border-box;padding-bottom: 0.4em;background-color: white;}#sk-container-id-2 div.sk-label label {font-family: monospace;font-weight: bold;display: inline-block;line-height: 1.2em;}#sk-container-id-2 div.sk-label-container {text-align: center;}#sk-container-id-2 div.sk-container {/* jupyter's `normalize.less` sets `[hidden] { display: none; }` but bootstrap.min.css set `[hidden] { display: none !important; }` so we also need the `!important` here to be able to override the default hidden behavior on the sphinx rendered scikit-learn.org. See: https://github.com/scikit-learn/scikit-learn/issues/21755 */display: inline-block !important;position: relative;}#sk-container-id-2 div.sk-text-repr-fallback {display: none;}</style><div id=\"sk-container-id-2\" class=\"sk-top-container\"><div class=\"sk-text-repr-fallback\"><pre>LogisticRegression(max_iter=10000)</pre><b>In a Jupyter environment, please rerun this cell to show the HTML representation or trust the notebook. <br />On GitHub, the HTML representation is unable to render, please try loading this page with nbviewer.org.</b></div><div class=\"sk-container\" hidden><div class=\"sk-item\"><div class=\"sk-estimator sk-toggleable\"><input class=\"sk-toggleable__control sk-hidden--visually\" id=\"sk-estimator-id-2\" type=\"checkbox\" checked><label for=\"sk-estimator-id-2\" class=\"sk-toggleable__label sk-toggleable__label-arrow\">LogisticRegression</label><div class=\"sk-toggleable__content\"><pre>LogisticRegression(max_iter=10000)</pre></div></div></div></div></div>"
      ],
      "text/plain": [
       "LogisticRegression(max_iter=10000)"
      ]
     },
     "execution_count": 46,
     "metadata": {},
     "output_type": "execute_result"
    }
   ],
   "source": [
    "lr_pca = LogisticRegression(max_iter=10000)\n",
    "lr_pca.fit(X_train, y_train)"
   ]
  },
  {
   "cell_type": "code",
   "execution_count": 48,
   "id": "a2c9ce4e",
   "metadata": {},
   "outputs": [
    {
     "name": "stdout",
     "output_type": "stream",
     "text": [
      "PCA Model Accuracy:  0.5355805243445693\n",
      "\n",
      "PCA Model Classification Report: \n",
      "              precision    recall  f1-score   support\n",
      "\n",
      "           0       0.89      0.98      0.93        51\n",
      "           1       0.32      0.23      0.27        52\n",
      "           2       0.49      0.44      0.46        48\n",
      "           3       0.41      0.42      0.42        62\n",
      "           4       0.51      0.63      0.56        54\n",
      "\n",
      "    accuracy                           0.54       267\n",
      "   macro avg       0.52      0.54      0.53       267\n",
      "weighted avg       0.52      0.54      0.52       267\n",
      "\n"
     ]
    }
   ],
   "source": [
    "y_pred_pca = lr_pca.predict(X_test)\n",
    "accuracy_pca = accuracy_score(y_test, y_pred_pca)\n",
    "report_pca = classification_report(y_test, y_pred_pca)\n",
    "\n",
    "print('PCA Model Accuracy: ', accuracy_pca)\n",
    "print('\\nPCA Model Classification Report: ')\n",
    "print(report_pca)"
   ]
  },
  {
   "cell_type": "code",
   "execution_count": 49,
   "id": "204e5e26",
   "metadata": {},
   "outputs": [],
   "source": [
    "X_train_orig, X_test_orig, y_train_orig, y_test_orig = train_test_split(\n",
    "   X_scaled, encoded_Y, test_size=0.3, random_state=42\n",
    ")"
   ]
  },
  {
   "cell_type": "code",
   "execution_count": 50,
   "id": "aef4a1c9",
   "metadata": {},
   "outputs": [
    {
     "data": {
      "text/html": [
       "<style>#sk-container-id-3 {color: black;background-color: white;}#sk-container-id-3 pre{padding: 0;}#sk-container-id-3 div.sk-toggleable {background-color: white;}#sk-container-id-3 label.sk-toggleable__label {cursor: pointer;display: block;width: 100%;margin-bottom: 0;padding: 0.3em;box-sizing: border-box;text-align: center;}#sk-container-id-3 label.sk-toggleable__label-arrow:before {content: \"▸\";float: left;margin-right: 0.25em;color: #696969;}#sk-container-id-3 label.sk-toggleable__label-arrow:hover:before {color: black;}#sk-container-id-3 div.sk-estimator:hover label.sk-toggleable__label-arrow:before {color: black;}#sk-container-id-3 div.sk-toggleable__content {max-height: 0;max-width: 0;overflow: hidden;text-align: left;background-color: #f0f8ff;}#sk-container-id-3 div.sk-toggleable__content pre {margin: 0.2em;color: black;border-radius: 0.25em;background-color: #f0f8ff;}#sk-container-id-3 input.sk-toggleable__control:checked~div.sk-toggleable__content {max-height: 200px;max-width: 100%;overflow: auto;}#sk-container-id-3 input.sk-toggleable__control:checked~label.sk-toggleable__label-arrow:before {content: \"▾\";}#sk-container-id-3 div.sk-estimator input.sk-toggleable__control:checked~label.sk-toggleable__label {background-color: #d4ebff;}#sk-container-id-3 div.sk-label input.sk-toggleable__control:checked~label.sk-toggleable__label {background-color: #d4ebff;}#sk-container-id-3 input.sk-hidden--visually {border: 0;clip: rect(1px 1px 1px 1px);clip: rect(1px, 1px, 1px, 1px);height: 1px;margin: -1px;overflow: hidden;padding: 0;position: absolute;width: 1px;}#sk-container-id-3 div.sk-estimator {font-family: monospace;background-color: #f0f8ff;border: 1px dotted black;border-radius: 0.25em;box-sizing: border-box;margin-bottom: 0.5em;}#sk-container-id-3 div.sk-estimator:hover {background-color: #d4ebff;}#sk-container-id-3 div.sk-parallel-item::after {content: \"\";width: 100%;border-bottom: 1px solid gray;flex-grow: 1;}#sk-container-id-3 div.sk-label:hover label.sk-toggleable__label {background-color: #d4ebff;}#sk-container-id-3 div.sk-serial::before {content: \"\";position: absolute;border-left: 1px solid gray;box-sizing: border-box;top: 0;bottom: 0;left: 50%;z-index: 0;}#sk-container-id-3 div.sk-serial {display: flex;flex-direction: column;align-items: center;background-color: white;padding-right: 0.2em;padding-left: 0.2em;position: relative;}#sk-container-id-3 div.sk-item {position: relative;z-index: 1;}#sk-container-id-3 div.sk-parallel {display: flex;align-items: stretch;justify-content: center;background-color: white;position: relative;}#sk-container-id-3 div.sk-item::before, #sk-container-id-3 div.sk-parallel-item::before {content: \"\";position: absolute;border-left: 1px solid gray;box-sizing: border-box;top: 0;bottom: 0;left: 50%;z-index: -1;}#sk-container-id-3 div.sk-parallel-item {display: flex;flex-direction: column;z-index: 1;position: relative;background-color: white;}#sk-container-id-3 div.sk-parallel-item:first-child::after {align-self: flex-end;width: 50%;}#sk-container-id-3 div.sk-parallel-item:last-child::after {align-self: flex-start;width: 50%;}#sk-container-id-3 div.sk-parallel-item:only-child::after {width: 0;}#sk-container-id-3 div.sk-dashed-wrapped {border: 1px dashed gray;margin: 0 0.4em 0.5em 0.4em;box-sizing: border-box;padding-bottom: 0.4em;background-color: white;}#sk-container-id-3 div.sk-label label {font-family: monospace;font-weight: bold;display: inline-block;line-height: 1.2em;}#sk-container-id-3 div.sk-label-container {text-align: center;}#sk-container-id-3 div.sk-container {/* jupyter's `normalize.less` sets `[hidden] { display: none; }` but bootstrap.min.css set `[hidden] { display: none !important; }` so we also need the `!important` here to be able to override the default hidden behavior on the sphinx rendered scikit-learn.org. See: https://github.com/scikit-learn/scikit-learn/issues/21755 */display: inline-block !important;position: relative;}#sk-container-id-3 div.sk-text-repr-fallback {display: none;}</style><div id=\"sk-container-id-3\" class=\"sk-top-container\"><div class=\"sk-text-repr-fallback\"><pre>LogisticRegression(max_iter=10000)</pre><b>In a Jupyter environment, please rerun this cell to show the HTML representation or trust the notebook. <br />On GitHub, the HTML representation is unable to render, please try loading this page with nbviewer.org.</b></div><div class=\"sk-container\" hidden><div class=\"sk-item\"><div class=\"sk-estimator sk-toggleable\"><input class=\"sk-toggleable__control sk-hidden--visually\" id=\"sk-estimator-id-3\" type=\"checkbox\" checked><label for=\"sk-estimator-id-3\" class=\"sk-toggleable__label sk-toggleable__label-arrow\">LogisticRegression</label><div class=\"sk-toggleable__content\"><pre>LogisticRegression(max_iter=10000)</pre></div></div></div></div></div>"
      ],
      "text/plain": [
       "LogisticRegression(max_iter=10000)"
      ]
     },
     "execution_count": 50,
     "metadata": {},
     "output_type": "execute_result"
    }
   ],
   "source": [
    "lr_orig = LogisticRegression(max_iter=10000)\n",
    "lr_orig.fit(X_train_orig, y_train_orig)"
   ]
  },
  {
   "cell_type": "code",
   "execution_count": 51,
   "id": "3c00dae3",
   "metadata": {},
   "outputs": [
    {
     "name": "stdout",
     "output_type": "stream",
     "text": [
      "\n",
      "Original Data Model Accuracy:  0.5280898876404494\n",
      "\n",
      "Original Data Model Classification Report: \n",
      "              precision    recall  f1-score   support\n",
      "\n",
      "           0       0.86      0.98      0.92        51\n",
      "           1       0.33      0.25      0.28        52\n",
      "           2       0.45      0.46      0.45        48\n",
      "           3       0.44      0.39      0.41        62\n",
      "           4       0.49      0.59      0.54        54\n",
      "\n",
      "    accuracy                           0.53       267\n",
      "   macro avg       0.51      0.53      0.52       267\n",
      "weighted avg       0.51      0.53      0.52       267\n",
      "\n"
     ]
    }
   ],
   "source": [
    "y_pred_orig = lr_orig.predict(X_test_orig)\n",
    "accuracy_orig = accuracy_score(y_test_orig, y_pred_orig)\n",
    "report_orig = classification_report(y_test_orig, y_pred_orig)\n",
    "\n",
    "print(\"\\nOriginal Data Model Accuracy: \", accuracy_orig)\n",
    "print(\"\\nOriginal Data Model Classification Report: \")\n",
    "print(report_orig)"
   ]
  },
  {
   "cell_type": "markdown",
   "id": "7b0a22dd",
   "metadata": {},
   "source": [
    "* `Predict the missing values of target Genre`"
   ]
  },
  {
   "cell_type": "code",
   "execution_count": 59,
   "id": "29150f23",
   "metadata": {},
   "outputs": [],
   "source": [
    "label_encoder = le.fit_transform(new_df['Genre'])"
   ]
  },
  {
   "cell_type": "code",
   "execution_count": 52,
   "id": "875b74dc",
   "metadata": {},
   "outputs": [],
   "source": [
    "unknown_df = new_df[new_df['Genre'].isna()]"
   ]
  },
  {
   "cell_type": "code",
   "execution_count": 53,
   "id": "8a67de31",
   "metadata": {},
   "outputs": [],
   "source": [
    "X_unknown = unknown_df.drop('Genre', axis=1)\n",
    "X_unknown_scaled = scaler.transform(X_unknown)"
   ]
  },
  {
   "cell_type": "code",
   "execution_count": 54,
   "id": "ca31f0bb",
   "metadata": {},
   "outputs": [],
   "source": [
    "X_unknown_pca = pca_final.transform(X_unknown_scaled)"
   ]
  },
  {
   "cell_type": "code",
   "execution_count": 55,
   "id": "e7319cb5",
   "metadata": {},
   "outputs": [],
   "source": [
    "y_unknown_pred = lr_pca.predict(X_unknown_pca)"
   ]
  },
  {
   "cell_type": "code",
   "execution_count": 64,
   "id": "8e8c3d01",
   "metadata": {},
   "outputs": [],
   "source": [
    "unknown_genre_labels = le.inverse_transform(y_unknown_pred)"
   ]
  },
  {
   "cell_type": "code",
   "execution_count": 65,
   "id": "111b60c3",
   "metadata": {},
   "outputs": [],
   "source": [
    "new_df.loc[unknown_df.index, 'Genre'] = unknown_genre_labels"
   ]
  },
  {
   "cell_type": "code",
   "execution_count": 66,
   "id": "c3dccb74",
   "metadata": {},
   "outputs": [
    {
     "name": "stdout",
     "output_type": "stream",
     "text": [
      "          Tempo  Dynamics Range  Vocal Presence  Percussion Strength  \\\n",
      "13   104.389822       65.826509       45.855410            55.655533   \n",
      "18   101.367152       47.843370       93.230347            67.101777   \n",
      "22    85.130539       55.707108       81.149615            21.473425   \n",
      "31   121.100952       71.769727       49.609529            82.539647   \n",
      "42    93.546825       44.563761       56.587554            99.546134   \n",
      "..          ...             ...             ...                  ...   \n",
      "991  130.719110       65.990957       21.775950            91.817048   \n",
      "992  117.892313       35.001524       76.506358            77.972570   \n",
      "993  104.315096       26.173723        3.334345            42.132602   \n",
      "994  121.863373       50.872678       70.100162           106.212013   \n",
      "995   66.578839       54.533872       99.782246            95.633310   \n",
      "\n",
      "     String Instrument Detection  Electronic Element Presence  \\\n",
      "13                     76.058845                    55.625315   \n",
      "18                     20.932163                    50.772288   \n",
      "22                     14.959208                    61.017283   \n",
      "31                     47.670106                   119.460607   \n",
      "42                    109.735122                    30.128106   \n",
      "..                           ...                          ...   \n",
      "991                    34.029452                   105.525736   \n",
      "992                    80.765657                    13.759213   \n",
      "993                    38.434513                    66.522798   \n",
      "994                    66.573813                    89.927526   \n",
      "995                    91.414514                    19.396142   \n",
      "\n",
      "     Rhythm Complexity  Drums Influence  Distorted Guitar  Metal Frequencies  \\\n",
      "13           25.312585        59.202818          0.920308           0.000000   \n",
      "18           30.348312        62.950165         64.462755          68.971944   \n",
      "22           64.000152        43.332846         70.455879          79.053598   \n",
      "31           68.812707        83.727876         95.307620          95.779062   \n",
      "42           48.392807        81.888793         97.200948         100.000000   \n",
      "..                 ...              ...               ...                ...   \n",
      "991          28.552899        99.587397          1.414556           0.000000   \n",
      "992          59.985923        80.108786         93.831262         100.000000   \n",
      "993          62.051560        79.475348         61.390214          52.925363   \n",
      "994           3.009635        79.634816         15.398297          31.235519   \n",
      "995          36.280860        78.298955          4.890606           4.638077   \n",
      "\n",
      "     Ambient Sound Influence  Instrumental Overlaps      Genre  \n",
      "13                 94.308889              27.441046  Classical  \n",
      "18                 21.690071              94.717315    Country  \n",
      "22                 20.420619              99.499498    Country  \n",
      "31                  2.883916              19.230684       Rock  \n",
      "42                 16.380240              55.483399       Rock  \n",
      "..                       ...                    ...        ...  \n",
      "991                59.447447              74.901837    Hip-hop  \n",
      "992                15.851851              47.984445       Rock  \n",
      "993                50.383816              52.630256    Hip-hop  \n",
      "994                11.997421              57.281283    Hip-hop  \n",
      "995                75.479656              95.990077  Classical  \n",
      "\n",
      "[110 rows x 13 columns]\n"
     ]
    }
   ],
   "source": [
    "print(new_df.loc[unknown_df.index])"
   ]
  },
  {
   "cell_type": "code",
   "execution_count": 70,
   "id": "780f4480",
   "metadata": {},
   "outputs": [
    {
     "data": {
      "text/plain": [
       "'Rock'"
      ]
     },
     "execution_count": 70,
     "metadata": {},
     "output_type": "execute_result"
    }
   ],
   "source": [
    "new_df['Genre'][992]"
   ]
  },
  {
   "cell_type": "code",
   "execution_count": 73,
   "id": "41979612",
   "metadata": {},
   "outputs": [
    {
     "name": "stdout",
     "output_type": "stream",
     "text": [
      "The original label for encoded value 2 is: Hip-hop\n"
     ]
    }
   ],
   "source": [
    "decoded_label = le.inverse_transform([2])  # Replace 2 with your encoded number\n",
    "print(f\"The original label for encoded value 2 is: {decoded_label[0]}\")"
   ]
  },
  {
   "cell_type": "code",
   "execution_count": null,
   "id": "fb346c78",
   "metadata": {},
   "outputs": [],
   "source": []
  }
 ],
 "metadata": {
  "kernelspec": {
   "display_name": "depi",
   "language": "python",
   "name": "python3"
  },
  "language_info": {
   "codemirror_mode": {
    "name": "ipython",
    "version": 3
   },
   "file_extension": ".py",
   "mimetype": "text/x-python",
   "name": "python",
   "nbconvert_exporter": "python",
   "pygments_lexer": "ipython3",
   "version": "3.10.9"
  }
 },
 "nbformat": 4,
 "nbformat_minor": 5
}
